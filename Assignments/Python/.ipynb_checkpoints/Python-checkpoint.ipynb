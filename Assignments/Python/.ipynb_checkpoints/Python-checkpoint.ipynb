{
 "cells": [
  {
   "cell_type": "markdown",
   "id": "00df2a00",
   "metadata": {},
   "source": [
    "- [Strings](#strings)\n",
    "- [Dictionary](#dictionary)\n",
    "- [List](#list)\n",
    "- [Tuple](#tuple)"
   ]
  },
  {
   "cell_type": "markdown",
   "id": "b2e78b2e",
   "metadata": {},
   "source": [
    "<a id=strings></a>\n",
    "\n",
    "\n",
    "### Strings\n",
    "\n",
    "\n",
    "Python Assignment Questions\n",
    "Questions on String\n",
    "Let's take the following string\n",
    "\n",
    "\" I am very keen in building up my career in Data Science, but not sure from where to start. If I search the web it throws me thousands of articles, few are relevant others make me confused, again I come around to the same page. Supervised has provided me a good platform to remove all such qualms which were wrangling in my mind\"\n",
    "\n",
    "Consider the above text as a string, figure out the average length of the string.\n",
    "\n",
    "Lower the text in the string.\n",
    "\n",
    "Try to get the clean text removing the punctuation from the string.\n",
    "\n",
    "Extract word \"Data Science\" from the string.\n",
    "\n",
    "Find the frequency of words used in the string.\n",
    "\n",
    "Find all the words which occurred more than once in the string.\n",
    "\n",
    "Can you change the word \"Supervised\" to \"Unsupervised\" in the string\n",
    "\n",
    "Splitting of the string with a dot operator(.)\n",
    "\n",
    "Find the words from the string which ends with \"e\"\n",
    "\n",
    "Figure out number of a's used in the string."
   ]
  },
  {
   "cell_type": "code",
   "execution_count": 1,
   "id": "fe15d9c2",
   "metadata": {},
   "outputs": [],
   "source": [
    "#Given Statement\n",
    "Statement= \" I am very keen in building up my career in Data Science, but not sure from where to start. If I search the web it throws me thousands of articles, few are relevant others make me confused, again I come around to the same page. Supervised has provided me a good platform to remove all such qualms which were wrangling in my mind\""
   ]
  },
  {
   "cell_type": "code",
   "execution_count": 2,
   "id": "dd184dd0",
   "metadata": {},
   "outputs": [
    {
     "name": "stdout",
     "output_type": "stream",
     "text": [
      "Length of the string:  328\n"
     ]
    }
   ],
   "source": [
    "#Length of the string\n",
    "print(\"Length of the string: \", len(Statement))"
   ]
  },
  {
   "cell_type": "code",
   "execution_count": 3,
   "id": "e2a1c516",
   "metadata": {},
   "outputs": [
    {
     "name": "stdout",
     "output_type": "stream",
     "text": [
      " i am very keen in building up my career in data science, but not sure from where to start. if i search the web it throws me thousands of articles, few are relevant others make me confused, again i come around to the same page. supervised has provided me a good platform to remove all such qualms which were wrangling in my mind\n"
     ]
    }
   ],
   "source": [
    "#Text in lower case \n",
    "Statement=Statement.lower()\n",
    "print(Statement)"
   ]
  },
  {
   "cell_type": "code",
   "execution_count": 4,
   "id": "d653ba51",
   "metadata": {},
   "outputs": [],
   "source": [
    "#removing punctuations\n",
    "import string\n",
    "Statement=Statement.translate(str.maketrans('', '', string.punctuation))"
   ]
  },
  {
   "cell_type": "code",
   "execution_count": 5,
   "id": "27dd1c25",
   "metadata": {},
   "outputs": [
    {
     "data": {
      "text/plain": [
       "'data science'"
      ]
     },
     "execution_count": 5,
     "metadata": {},
     "output_type": "execute_result"
    }
   ],
   "source": [
    "#extracting data science from given statement\n",
    "extract_word=\"data science\"\n",
    "initial_index=Statement.find(extract_word)\n",
    "final_index=initial_index+len(extract_word)\n",
    "Statement[initial_index:56]"
   ]
  },
  {
   "cell_type": "code",
   "execution_count": 6,
   "id": "a94cfe6e",
   "metadata": {},
   "outputs": [
    {
     "name": "stdout",
     "output_type": "stream",
     "text": [
      "{'i': 3, 'am': 1, 'very': 1, 'keen': 1, 'in': 3, 'building': 1, 'up': 1, 'my': 2, 'career': 1, 'data': 1, 'science': 1, 'but': 1, 'not': 1, 'sure': 1, 'from': 1, 'where': 1, 'to': 3, 'start': 1, 'if': 1, 'search': 1, 'the': 2, 'web': 1, 'it': 1, 'throws': 1, 'me': 3, 'thousands': 1, 'of': 1, 'articles': 1, 'few': 1, 'are': 1, 'relevant': 1, 'others': 1, 'make': 1, 'confused': 1, 'again': 1, 'come': 1, 'around': 1, 'same': 1, 'page': 1, 'supervised': 1, 'has': 1, 'provided': 1, 'a': 1, 'good': 1, 'platform': 1, 'remove': 1, 'all': 1, 'such': 1, 'qualms': 1, 'which': 1, 'were': 1, 'wrangling': 1, 'mind': 1}\n"
     ]
    }
   ],
   "source": [
    "#finding the frequency of words in the string\n",
    "Split= Statement.split()\n",
    "words={}\n",
    "for word in Split:\n",
    "    words[word]=Split.count(word)\n",
    "print(words)"
   ]
  },
  {
   "cell_type": "code",
   "execution_count": 7,
   "id": "540ee44f",
   "metadata": {},
   "outputs": [
    {
     "name": "stdout",
     "output_type": "stream",
     "text": [
      "Words that occurred more than once in a string:\n",
      "['i', 'in', 'my', 'to', 'the', 'me']\n"
     ]
    }
   ],
   "source": [
    "#finding the words that occured more than once\n",
    "freq_words=[]\n",
    "for word,count in words.items():\n",
    "    if count>1:\n",
    "        freq_words.append(word)\n",
    "print(\"Words that occurred more than once in a string:\")\n",
    "print(freq_words)"
   ]
  },
  {
   "cell_type": "code",
   "execution_count": 8,
   "id": "bfc95b32",
   "metadata": {},
   "outputs": [
    {
     "name": "stdout",
     "output_type": "stream",
     "text": [
      " i am very keen in building up my career in data science but not sure from where to start if i search the web it throws me thousands of articles few are relevant others make me confused again i come around to the same page unsupervised has provided me a good platform to remove all such qualms which were wrangling in my mind\n"
     ]
    }
   ],
   "source": [
    "#replacing supervised with unsupervised \n",
    "Statement=Statement.replace('supervised','unsupervised')\n",
    "print(Statement)"
   ]
  },
  {
   "cell_type": "code",
   "execution_count": 9,
   "id": "1bd4f802",
   "metadata": {},
   "outputs": [],
   "source": [
    "#Splitting the given statement\n",
    "Split_String=Statement.split()"
   ]
  },
  {
   "cell_type": "code",
   "execution_count": 10,
   "id": "4b43e677",
   "metadata": {},
   "outputs": [
    {
     "name": "stdout",
     "output_type": "stream",
     "text": [
      "['science', 'sure', 'where', 'the', 'me', 'are', 'make', 'me', 'come', 'the', 'same', 'page', 'me', 'remove', 'were']\n"
     ]
    }
   ],
   "source": [
    "#finding all the words that end with e\n",
    "ends_with_e=[]\n",
    "for word in Split_String:\n",
    "    if word.endswith('e'):\n",
    "        ends_with_e.append(word)\n",
    "print(ends_with_e)"
   ]
  },
  {
   "cell_type": "code",
   "execution_count": 11,
   "id": "788a21d9",
   "metadata": {},
   "outputs": [
    {
     "data": {
      "text/plain": [
       "22"
      ]
     },
     "execution_count": 11,
     "metadata": {},
     "output_type": "execute_result"
    }
   ],
   "source": [
    "#counting the occurrence of the letter 'a'\n",
    "Statement.count('a')"
   ]
  },
  {
   "cell_type": "markdown",
   "id": "b612930b",
   "metadata": {},
   "source": [
    "# Dictionaries \n"
   ]
  },
  {
   "cell_type": "code",
   "execution_count": 12,
   "id": "34e498be",
   "metadata": {},
   "outputs": [
    {
     "name": "stdout",
     "output_type": "stream",
     "text": [
      "Listed Commodities:\n",
      "apple : 0.25\n",
      "sugar : 0.5\n",
      "rice : 1\n",
      "milk : 2.5\n",
      "eggs : 1\n",
      "atta : 1\n",
      "Bill:\n",
      "{'apple': 55.0, 'sugar': 21.5, 'rice': 45, 'milk': 75.0, 'eggs': 60, 'atta': 32}\n",
      "Total Bill: 288.5\n"
     ]
    }
   ],
   "source": [
    "#all commodities are in Kilograms except milk, eggs.\n",
    "#milk in milliliters and eggs in dozens\n",
    "\n",
    "commodities={'apple':0.25,'sugar':0.5,'rice':2.5,'milk':2.5,'eggs':1}\n",
    "\n",
    "# adding new item atta (in kilograms)\n",
    "commodities['atta']=1\n",
    "\n",
    "#changing rice quantity from 2.5kg to 1kg\n",
    "commodities['rice']=1\n",
    "\n",
    "#lisiting all the commodities\n",
    "print(\"Listed Commodities:\")\n",
    "for commodity, quantity in commodities.items():\n",
    "    print(commodity,\":\",quantity)\n",
    "\n",
    "#creating a dictionary for all the prices\n",
    "pricing= {'apple':220,'sugar':43,'rice':45,'milk':30,'eggs':60, 'atta':32}\n",
    "\n",
    "total_bill=0\n",
    "commodity_bills={}\n",
    "for key in commodities.keys():\n",
    "    temp=commodities[key]*pricing[key]\n",
    "    total_bill=total_bill+temp\n",
    "    commodity_bills[key]=temp\n",
    "    \n",
    "print(\"Bill:\")\n",
    "print(commodity_bills)\n",
    "print(\"Total Bill:\", total_bill)"
   ]
  },
  {
   "cell_type": "markdown",
   "id": "dcfc45ae",
   "metadata": {},
   "source": [
    "# List"
   ]
  },
  {
   "cell_type": "code",
   "execution_count": 13,
   "id": "66475dec",
   "metadata": {},
   "outputs": [
    {
     "name": "stdout",
     "output_type": "stream",
     "text": [
      "['Amazon', 'Apple', 'Facebook', 'Google', 'HiSilicon', 'Microsoft', 'SenseTime']\n",
      "['Amazon', 'Apple', 'Facebook', 'Google', 'HiSilicon', 'Microsoft', 'SenseTime', 'Nvidia', 'OpenAI', 'Qualcomm', 'Reliance']\n",
      "['amazon', 'apple', 'facebook', 'google', 'hisilicon', 'microsoft', 'sensetime', 'nvidia', 'openai', 'qualcomm', 'reliance']\n",
      "['amazon', 'apple', 'facebook', 'google', 'hisilicon', 'microsoft', 'sensetime', 'nvidia', 'openai', 'qualcomm']\n",
      "['facebook', 'google', 'microsoft']\n"
     ]
    }
   ],
   "source": [
    "AI_companies=['Amazon', 'Facebook', 'HiSilicon', 'Google', 'Apple', 'Microsoft', 'SenseTime']\n",
    "\n",
    "AI_companies.sort()\n",
    "\n",
    "print(AI_companies)\n",
    "\n",
    "AI_companies.extend(['Nvidia','OpenAI','Qualcomm','Reliance'])\n",
    "print(AI_companies)\n",
    "\n",
    "AI_companies= [word.lower() for word in AI_companies]\n",
    "print(AI_companies)\n",
    "\n",
    "AI_companies.remove('reliance')\n",
    "# AI_companies.pop() #pop will also remove reliance\n",
    "print(AI_companies)\n",
    "\n",
    "print(AI_companies[2:4]+AI_companies[5::6])"
   ]
  },
  {
   "cell_type": "markdown",
   "id": "5ccfe0e9",
   "metadata": {},
   "source": [
    "# Tuple"
   ]
  },
  {
   "cell_type": "code",
   "execution_count": 14,
   "id": "740bf1cc",
   "metadata": {},
   "outputs": [
    {
     "name": "stdout",
     "output_type": "stream",
     "text": [
      "(220, 43, 45, 30, 60, 32)\n",
      "Min price: 30\n",
      "Max price: 220\n",
      "('amazon', 'apple', 'facebook', 'google', 'hisilicon', 'microsoft', 'sensetime', 'nvidia', 'openai', 'qualcomm')\n",
      "(220, 43, 45, 30, 60, 32, 'amazon', 'apple', 'facebook', 'google', 'hisilicon', 'microsoft', 'sensetime', 'nvidia', 'openai', 'qualcomm')\n",
      "6 10 16\n"
     ]
    }
   ],
   "source": [
    "prices=tuple(pricing.values())\n",
    "print(prices)\n",
    "\n",
    "max_price=-1\n",
    "min_price=10000000\n",
    "for price in prices:\n",
    "    if price<min_price:\n",
    "        min_price=price\n",
    "    if price>max_price:\n",
    "        max_price=price\n",
    "        \n",
    "print(\"Min price:\",min_price)\n",
    "print(\"Max price:\",max_price)\n",
    "\n",
    "\n",
    "t1=tuple(AI_companies)\n",
    "print(t1)\n",
    "\n",
    "t3=prices+t1\n",
    "print(t3)\n",
    "\n",
    "print(len(prices),len(t1),len(t3))"
   ]
  }
 ],
 "metadata": {
  "kernelspec": {
   "display_name": "Python 3 (ipykernel)",
   "language": "python",
   "name": "python3"
  },
  "language_info": {
   "codemirror_mode": {
    "name": "ipython",
    "version": 3
   },
   "file_extension": ".py",
   "mimetype": "text/x-python",
   "name": "python",
   "nbconvert_exporter": "python",
   "pygments_lexer": "ipython3",
   "version": "3.8.6"
  }
 },
 "nbformat": 4,
 "nbformat_minor": 5
}
