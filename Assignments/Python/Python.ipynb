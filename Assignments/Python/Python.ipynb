{
 "cells": [
  {
   "cell_type": "markdown",
   "id": "9638fcbf",
   "metadata": {},
   "source": [
    "# Python \n",
    "\n",
    "- [Strings](#strings)\n",
    "- [Dictionary](#dictionary)\n",
    "- [List](#list)\n",
    "- [Tuple](#tuple)"
   ]
  },
  {
   "cell_type": "markdown",
   "id": "b2e78b2e",
   "metadata": {},
   "source": [
    "<a id=strings></a>\n",
    "## Strings\n",
    "\n",
    "Let's take the following string\n",
    "\n",
    "\" I am very keen in building up my career in Data Science, but not sure from where to start. If I search the web it throws me thousands of articles, few are relevant others make me confused, again I come around to the same page. Supervised has provided me a good platform to remove all such qualms which were wrangling in my mind\"\n",
    "\n",
    "\n",
    "- [Consider the above text as a string, figure out the average length of the string.](#question1)\n",
    "\n",
    "- [Lower the text in the string.](#question2)\n",
    "\n",
    "- [Try to get the clean text removing the punctuation from the string.](#question3)\n",
    "\n",
    "- [Extract word \"Data Science\" from the string.](#question4)\n",
    "\n",
    "- [Find the frequency of words used in the string.](#question5)\n",
    "\n",
    "- [Find all the words which occurred more than once in the string.](#question6)\n",
    "\n",
    "- [Can you change the word \"Supervised\" to \"Unsupervised\" in the string](#question7)\n",
    "\n",
    "- [Splitting of the string with a dot operator(.)](#question8)\n",
    "\n",
    "- [Find the words from the string which ends with \"e\"](#question9)\n",
    "\n",
    "- [Figure out number of a's used in the string.](#question10)\n"
   ]
  },
  {
   "cell_type": "code",
   "execution_count": 1,
   "id": "fe15d9c2",
   "metadata": {},
   "outputs": [],
   "source": [
    "#Given Statement\n",
    "Statement= \" I am very keen in building up my career in Data Science, but not sure from where to start. If I search the web it throws me thousands of articles, few are relevant others make me confused, again I come around to the same page. Supervised has provided me a good platform to remove all such qualms which were wrangling in my mind\""
   ]
  },
  {
   "cell_type": "markdown",
   "id": "dae80276",
   "metadata": {},
   "source": [
    "<a id='question1'></a>\n",
    "#### Consider the above text as a string, figure out the average length of the string."
   ]
  },
  {
   "cell_type": "code",
   "execution_count": 2,
   "id": "dd184dd0",
   "metadata": {},
   "outputs": [
    {
     "name": "stdout",
     "output_type": "stream",
     "text": [
      "Length of the string:  328\n"
     ]
    }
   ],
   "source": [
    "#Length of the string\n",
    "print(\"Length of the string: \", len(Statement))"
   ]
  },
  {
   "cell_type": "markdown",
   "id": "3e31fd49",
   "metadata": {},
   "source": [
    "<a id='question2'></a>\n",
    "#### Lower the text in the string."
   ]
  },
  {
   "cell_type": "code",
   "execution_count": 3,
   "id": "e2a1c516",
   "metadata": {},
   "outputs": [
    {
     "name": "stdout",
     "output_type": "stream",
     "text": [
      " i am very keen in building up my career in data science, but not sure from where to start. if i search the web it throws me thousands of articles, few are relevant others make me confused, again i come around to the same page. supervised has provided me a good platform to remove all such qualms which were wrangling in my mind\n"
     ]
    }
   ],
   "source": [
    "#Text in lower case \n",
    "Statement=Statement.lower()\n",
    "print(Statement)"
   ]
  },
  {
   "cell_type": "markdown",
   "id": "425932c3",
   "metadata": {},
   "source": [
    "<a id='question3'></a>\n",
    "#### Try to get the clean text removing the punctuation from the string."
   ]
  },
  {
   "cell_type": "code",
   "execution_count": 4,
   "id": "d653ba51",
   "metadata": {},
   "outputs": [],
   "source": [
    "#removing punctuations\n",
    "import string\n",
    "Statement=Statement.translate(str.maketrans('', '', string.punctuation))"
   ]
  },
  {
   "cell_type": "markdown",
   "id": "8a1f802f",
   "metadata": {},
   "source": [
    "<a id='question4'></a>\n",
    "#### Extract word \"Data Science\" from the string."
   ]
  },
  {
   "cell_type": "code",
   "execution_count": 5,
   "id": "27dd1c25",
   "metadata": {},
   "outputs": [
    {
     "data": {
      "text/plain": [
       "'data science'"
      ]
     },
     "execution_count": 5,
     "metadata": {},
     "output_type": "execute_result"
    }
   ],
   "source": [
    "#extracting data science from given statement\n",
    "extract_word=\"data science\"\n",
    "initial_index=Statement.find(extract_word)\n",
    "final_index=initial_index+len(extract_word)\n",
    "Statement[initial_index:56]"
   ]
  },
  {
   "cell_type": "markdown",
   "id": "ed22cfc7",
   "metadata": {},
   "source": [
    "<a id='question5'></a>\n",
    "#### Find the frequency of words used in the string."
   ]
  },
  {
   "cell_type": "code",
   "execution_count": 6,
   "id": "a94cfe6e",
   "metadata": {},
   "outputs": [
    {
     "name": "stdout",
     "output_type": "stream",
     "text": [
      "{'i': 3, 'am': 1, 'very': 1, 'keen': 1, 'in': 3, 'building': 1, 'up': 1, 'my': 2, 'career': 1, 'data': 1, 'science': 1, 'but': 1, 'not': 1, 'sure': 1, 'from': 1, 'where': 1, 'to': 3, 'start': 1, 'if': 1, 'search': 1, 'the': 2, 'web': 1, 'it': 1, 'throws': 1, 'me': 3, 'thousands': 1, 'of': 1, 'articles': 1, 'few': 1, 'are': 1, 'relevant': 1, 'others': 1, 'make': 1, 'confused': 1, 'again': 1, 'come': 1, 'around': 1, 'same': 1, 'page': 1, 'supervised': 1, 'has': 1, 'provided': 1, 'a': 1, 'good': 1, 'platform': 1, 'remove': 1, 'all': 1, 'such': 1, 'qualms': 1, 'which': 1, 'were': 1, 'wrangling': 1, 'mind': 1}\n"
     ]
    }
   ],
   "source": [
    "#finding the frequency of words in the string\n",
    "Split= Statement.split()\n",
    "words={}\n",
    "for word in Split:\n",
    "    words[word]=Split.count(word)\n",
    "print(words)"
   ]
  },
  {
   "cell_type": "markdown",
   "id": "a542bcb3",
   "metadata": {},
   "source": [
    "<a id='question6'></a>\n",
    "#### Find all the words which occurred more than once in the string."
   ]
  },
  {
   "cell_type": "code",
   "execution_count": 7,
   "id": "540ee44f",
   "metadata": {},
   "outputs": [
    {
     "name": "stdout",
     "output_type": "stream",
     "text": [
      "Words that occurred more than once in a string:\n",
      "['i', 'in', 'my', 'to', 'the', 'me']\n"
     ]
    }
   ],
   "source": [
    "#finding the words that occured more than once\n",
    "freq_words=[]\n",
    "for word,count in words.items():\n",
    "    if count>1:\n",
    "        freq_words.append(word)\n",
    "print(\"Words that occurred more than once in a string:\")\n",
    "print(freq_words)"
   ]
  },
  {
   "cell_type": "markdown",
   "id": "680207a6",
   "metadata": {},
   "source": [
    "<a id='question7'></a>\n",
    "#### Can you change the word \"Supervised\" to \"Unsupervised\" in the string\n"
   ]
  },
  {
   "cell_type": "code",
   "execution_count": 8,
   "id": "bfc95b32",
   "metadata": {},
   "outputs": [
    {
     "name": "stdout",
     "output_type": "stream",
     "text": [
      " i am very keen in building up my career in data science but not sure from where to start if i search the web it throws me thousands of articles few are relevant others make me confused again i come around to the same page unsupervised has provided me a good platform to remove all such qualms which were wrangling in my mind\n"
     ]
    }
   ],
   "source": [
    "#replacing supervised with unsupervised \n",
    "Statement=Statement.replace('supervised','unsupervised')\n",
    "print(Statement)"
   ]
  },
  {
   "cell_type": "markdown",
   "id": "87c39264",
   "metadata": {},
   "source": [
    "<a id='question8'></a>\n",
    "#### Splitting of the string with a dot operator(.)\n"
   ]
  },
  {
   "cell_type": "code",
   "execution_count": 9,
   "id": "1bd4f802",
   "metadata": {},
   "outputs": [],
   "source": [
    "#Splitting the given statement\n",
    "Split_String=Statement.split()"
   ]
  },
  {
   "cell_type": "markdown",
   "id": "3ba5a265",
   "metadata": {},
   "source": [
    "<a id='question9'></a>\n",
    "#### Find the words from the string which ends with \"e\""
   ]
  },
  {
   "cell_type": "code",
   "execution_count": 10,
   "id": "4b43e677",
   "metadata": {},
   "outputs": [
    {
     "name": "stdout",
     "output_type": "stream",
     "text": [
      "['science', 'sure', 'where', 'the', 'me', 'are', 'make', 'me', 'come', 'the', 'same', 'page', 'me', 'remove', 'were']\n"
     ]
    }
   ],
   "source": [
    "#finding all the words that end with e\n",
    "ends_with_e=[]\n",
    "for word in Split_String:\n",
    "    if word.endswith('e'):\n",
    "        ends_with_e.append(word)\n",
    "print(ends_with_e)"
   ]
  },
  {
   "cell_type": "markdown",
   "id": "03350dc3",
   "metadata": {},
   "source": [
    "<a id='question10'></a>\n",
    "#### Figure out number of a's used in the string."
   ]
  },
  {
   "cell_type": "code",
   "execution_count": 11,
   "id": "788a21d9",
   "metadata": {},
   "outputs": [
    {
     "data": {
      "text/plain": [
       "22"
      ]
     },
     "execution_count": 11,
     "metadata": {},
     "output_type": "execute_result"
    }
   ],
   "source": [
    "#counting the occurrence of the letter 'a'\n",
    "Statement.count('a')"
   ]
  },
  {
   "cell_type": "markdown",
   "id": "b612930b",
   "metadata": {},
   "source": [
    "<a id='dictionary'></a>\n",
    "## Dictionaries \n",
    "\n",
    "\n",
    "- [In the weekend , I purchased 250g of apple, 500g of sugar, 2.5 kg of rice, 2.5 litres of milk and finally 1 dozen of egg. Can you help me frame the above purchase in the form of dictionary with commodities as keys to it.](#questiond1)\n",
    "\n",
    "- [I forgot to mention another item, 1kg of atta packet. Can you also add it ?](#questiond2)\n",
    "\n",
    "- [Instead of 2kg of rice, I bought only 1kg of rice. Can you change the corresponding value ?](#questiond3)\n",
    "\n",
    "- [Can you list out all these items using a loop.](#questiond4)\n",
    "\n",
    "- [However, the cost of 1 kg apple is Rs.220, 1 kg of sugar is Rs.43, 1 Kg of rice is Rs. 45, 1 litre of milk is Rs.30 and 1 dozen of egg is Rs. 60.\n",
    "Create another dictionary for pricing.](#questiond5)\n",
    "\n",
    "- [Thereby, prepare a bill for me of the overall cost of the total commodities purchased by using two dictionaries !](#questiond6)"
   ]
  },
  {
   "cell_type": "markdown",
   "id": "b1c046c0",
   "metadata": {},
   "source": [
    "<a id=questiond1></a>\n",
    "#### In the weekend , I purchased 250g of apple, 500g of sugar, 2.5 kg of rice, 2.5 litres of milk and finally 1 dozen of egg. Can you help me frame the above purchase in the form of dictionary with commodities as keys to it."
   ]
  },
  {
   "cell_type": "code",
   "execution_count": 12,
   "id": "3180461d",
   "metadata": {},
   "outputs": [],
   "source": [
    "#all commodities are in Kilograms except milk, eggs.\n",
    "#milk in milliliters and eggs in dozens\n",
    "\n",
    "commodities={'apple':0.25,'sugar':0.5,'rice':2.5,'milk':2.5,'eggs':1}"
   ]
  },
  {
   "cell_type": "markdown",
   "id": "4a711682",
   "metadata": {},
   "source": [
    "<a id=questiond1></a>\n",
    "#### I forgot to mention another item, 1kg of atta packet. Can you also add it ?"
   ]
  },
  {
   "cell_type": "code",
   "execution_count": 13,
   "id": "50ab8cc5",
   "metadata": {},
   "outputs": [],
   "source": [
    "# adding new item atta (in kilograms)\n",
    "commodities['atta']=1"
   ]
  },
  {
   "cell_type": "markdown",
   "id": "769ad890",
   "metadata": {},
   "source": [
    "<a id=questiond2></a>\n",
    "#### Instead of 2kg of rice, I bought only 1kg of rice. Can you change the corresponding value ?"
   ]
  },
  {
   "cell_type": "code",
   "execution_count": 14,
   "id": "4c665fdc",
   "metadata": {},
   "outputs": [],
   "source": [
    "#changing rice quantity from 2.5kg to 1kg\n",
    "commodities['rice']=1"
   ]
  },
  {
   "cell_type": "markdown",
   "id": "4e870248",
   "metadata": {},
   "source": [
    "<a id=questiond3></a>\n",
    "#### Can you list out all these items using a loop."
   ]
  },
  {
   "cell_type": "code",
   "execution_count": 15,
   "id": "37ed7be7",
   "metadata": {},
   "outputs": [
    {
     "name": "stdout",
     "output_type": "stream",
     "text": [
      "Listed Commodities:\n",
      "apple : 0.25\n",
      "sugar : 0.5\n",
      "rice : 1\n",
      "milk : 2.5\n",
      "eggs : 1\n",
      "atta : 1\n"
     ]
    }
   ],
   "source": [
    "#lisiting all the commodities\n",
    "print(\"Listed Commodities:\")\n",
    "for commodity, quantity in commodities.items():\n",
    "    print(commodity,\":\",quantity)"
   ]
  },
  {
   "cell_type": "markdown",
   "id": "f78c877d",
   "metadata": {},
   "source": [
    "<a id=questiond4></a>\n",
    "#### However, the cost of 1 kg apple is Rs.220, 1 kg of sugar is Rs.43, 1 Kg of rice is Rs. 45, 1 litre of milk is Rs.30, 1kg of atta is Rs.32 and 1 dozen of egg is Rs. 60. Create another dictionary for pricing. "
   ]
  },
  {
   "cell_type": "code",
   "execution_count": 16,
   "id": "0425aa28",
   "metadata": {},
   "outputs": [],
   "source": [
    "#creating a dictionary for all the prices\n",
    "pricing= {'apple':220,'sugar':43,'rice':45,'milk':30,'eggs':60, 'atta':32}"
   ]
  },
  {
   "cell_type": "markdown",
   "id": "42227028",
   "metadata": {},
   "source": [
    "<a id=questiond5></a>\n",
    "#### Thereby, prepare a bill for me of the overall cost of the total commodities purchased by using two dictionaries !"
   ]
  },
  {
   "cell_type": "code",
   "execution_count": 17,
   "id": "045d3282",
   "metadata": {},
   "outputs": [
    {
     "name": "stdout",
     "output_type": "stream",
     "text": [
      "Bill:\n",
      "{'apple': 55.0, 'sugar': 21.5, 'rice': 45, 'milk': 75.0, 'eggs': 60, 'atta': 32}\n",
      "Total Bill: 288.5\n"
     ]
    }
   ],
   "source": [
    "total_bill=0\n",
    "commodity_bills={}\n",
    "for key in commodities.keys():\n",
    "    temp=commodities[key]*pricing[key]\n",
    "    total_bill=total_bill+temp\n",
    "    commodity_bills[key]=temp\n",
    "    \n",
    "print(\"Bill:\")\n",
    "print(commodity_bills)\n",
    "print(\"Total Bill:\", total_bill)"
   ]
  },
  {
   "cell_type": "markdown",
   "id": "dcfc45ae",
   "metadata": {},
   "source": [
    "<a id='list'></a>\n",
    "## List\n",
    "\n",
    "```python \n",
    "Listed are the top AI companies in the world\n",
    "AI_companies=['Amazon', 'Facebook', 'HiSilicon', 'Google', 'Apple', 'Microsoft', 'SenseTime']\n",
    "```\n",
    "\n",
    "- [Sort the list in ascending order](#questionl1)\n",
    "\n",
    "- [Add multiple companies at once 'Nvidia', 'OpenAI' , 'Qualcomm' and 'Reliance' to the list](#questionl2)\n",
    "\n",
    "- [Make every alphabet, string inside the list into lower case letters.](#questionl3)\n",
    "\n",
    "- [Eliminate 'Reliance' from the list](#questionl4)\n",
    "\n",
    "- [Extract 'Facebook', 'Google' and 'Microsoft' using a single command](#questionl5)\n"
   ]
  },
  {
   "cell_type": "code",
   "execution_count": 18,
   "id": "e578ff37",
   "metadata": {},
   "outputs": [],
   "source": [
    "AI_companies=['Amazon', 'Facebook', 'HiSilicon', 'Google', 'Apple', 'Microsoft', 'SenseTime']"
   ]
  },
  {
   "cell_type": "markdown",
   "id": "60a6e30a",
   "metadata": {},
   "source": [
    "<a id=questionl1></a>\n",
    "#### Sort the list in ascending order"
   ]
  },
  {
   "cell_type": "code",
   "execution_count": 19,
   "id": "7ecd53b8",
   "metadata": {},
   "outputs": [
    {
     "name": "stdout",
     "output_type": "stream",
     "text": [
      "['Amazon', 'Apple', 'Facebook', 'Google', 'HiSilicon', 'Microsoft', 'SenseTime']\n"
     ]
    }
   ],
   "source": [
    "AI_companies.sort()\n",
    "\n",
    "print(AI_companies)"
   ]
  },
  {
   "cell_type": "markdown",
   "id": "a09adf17",
   "metadata": {},
   "source": [
    "<a id=questionl2></a>\n",
    "\n",
    "#### Add multiple companies at once 'Nvidia', 'OpenAI' , 'Qualcomm' and 'Reliance' to the list"
   ]
  },
  {
   "cell_type": "code",
   "execution_count": 20,
   "id": "a0e08852",
   "metadata": {},
   "outputs": [
    {
     "name": "stdout",
     "output_type": "stream",
     "text": [
      "['Amazon', 'Apple', 'Facebook', 'Google', 'HiSilicon', 'Microsoft', 'SenseTime', 'Nvidia', 'OpenAI', 'Qualcomm', 'Reliance']\n"
     ]
    }
   ],
   "source": [
    "AI_companies.extend(['Nvidia','OpenAI','Qualcomm','Reliance'])\n",
    "print(AI_companies)"
   ]
  },
  {
   "cell_type": "markdown",
   "id": "60580294",
   "metadata": {},
   "source": [
    "<a id=questionl3></a>\n",
    "#### Make every alphabet, string inside the list into lower case letters."
   ]
  },
  {
   "cell_type": "code",
   "execution_count": 21,
   "id": "73409194",
   "metadata": {},
   "outputs": [
    {
     "name": "stdout",
     "output_type": "stream",
     "text": [
      "['amazon', 'apple', 'facebook', 'google', 'hisilicon', 'microsoft', 'sensetime', 'nvidia', 'openai', 'qualcomm', 'reliance']\n"
     ]
    }
   ],
   "source": [
    "AI_companies= [word.lower() for word in AI_companies]\n",
    "print(AI_companies)"
   ]
  },
  {
   "cell_type": "markdown",
   "id": "9468119d",
   "metadata": {},
   "source": [
    "<a id=questionl4></a>\n",
    "#### Eliminate 'Reliance' from the list"
   ]
  },
  {
   "cell_type": "code",
   "execution_count": 22,
   "id": "e4041216",
   "metadata": {},
   "outputs": [
    {
     "name": "stdout",
     "output_type": "stream",
     "text": [
      "['amazon', 'apple', 'facebook', 'google', 'hisilicon', 'microsoft', 'sensetime', 'nvidia', 'openai', 'qualcomm']\n"
     ]
    }
   ],
   "source": [
    "AI_companies.remove('reliance')\n",
    "# AI_companies.pop() #pop will also remove reliance\n",
    "print(AI_companies)"
   ]
  },
  {
   "cell_type": "markdown",
   "id": "24a18b6e",
   "metadata": {},
   "source": [
    "<a id=questionl5></a>\n",
    "#### Extract 'Facebook', 'Google' and 'Microsoft' using a single command"
   ]
  },
  {
   "cell_type": "code",
   "execution_count": 23,
   "id": "66475dec",
   "metadata": {},
   "outputs": [
    {
     "name": "stdout",
     "output_type": "stream",
     "text": [
      "['facebook', 'google', 'microsoft']\n"
     ]
    }
   ],
   "source": [
    "print(AI_companies[2:4]+AI_companies[5::6])"
   ]
  },
  {
   "cell_type": "markdown",
   "id": "5ccfe0e9",
   "metadata": {},
   "source": [
    "<a id=tuple></a>\n",
    "   \n",
    "## Tuple\n",
    "\n",
    "\n",
    "- [Consider the above standard price problem statement and place the prices in the form of the tuple.](#questiont1)\n",
    "\n",
    "- [Find out the min and max price among them.](#questiont2)\n",
    "\n",
    "- [Also, convert the above \"AI_companies\" list to a tuple.](#questiont3)\n",
    "\n",
    "- [Combine two above tuples to a single tuple.](#questiont4)\n",
    "\n",
    "- [Compare the length of two tuples.](#questiont5)\n"
   ]
  },
  {
   "cell_type": "markdown",
   "id": "4f928f30",
   "metadata": {},
   "source": [
    "<a id=questiont1></a>\n",
    "\n",
    "\n",
    "#### Consider the above standard price problem statement and place the prices in the form of the tuple."
   ]
  },
  {
   "cell_type": "code",
   "execution_count": 24,
   "id": "29a3f5ff",
   "metadata": {},
   "outputs": [
    {
     "name": "stdout",
     "output_type": "stream",
     "text": [
      "(220, 43, 45, 30, 60, 32)\n"
     ]
    }
   ],
   "source": [
    "prices=tuple(pricing.values())\n",
    "print(prices)"
   ]
  },
  {
   "cell_type": "markdown",
   "id": "39166dfb",
   "metadata": {},
   "source": [
    "<a id=questiont2></a>\n",
    "\n",
    "\n",
    "#### Find out the min and max price among them."
   ]
  },
  {
   "cell_type": "code",
   "execution_count": 25,
   "id": "b7916c8d",
   "metadata": {},
   "outputs": [
    {
     "name": "stdout",
     "output_type": "stream",
     "text": [
      "Min price: 30\n",
      "Max price: 220\n"
     ]
    }
   ],
   "source": [
    "max_price=-1\n",
    "min_price=10000000\n",
    "for price in prices:\n",
    "    if price<min_price:\n",
    "        min_price=price\n",
    "    if price>max_price:\n",
    "        max_price=price\n",
    "        \n",
    "print(\"Min price:\",min_price)\n",
    "print(\"Max price:\",max_price)"
   ]
  },
  {
   "cell_type": "markdown",
   "id": "c4937b57",
   "metadata": {},
   "source": [
    "<a id=questiont3></a>\n",
    "#### Also, convert the above \"AI_companies\" list to a tuple."
   ]
  },
  {
   "cell_type": "code",
   "execution_count": 26,
   "id": "59bea7a7",
   "metadata": {},
   "outputs": [
    {
     "name": "stdout",
     "output_type": "stream",
     "text": [
      "('amazon', 'apple', 'facebook', 'google', 'hisilicon', 'microsoft', 'sensetime', 'nvidia', 'openai', 'qualcomm')\n"
     ]
    }
   ],
   "source": [
    "t1=tuple(AI_companies)\n",
    "print(t1)"
   ]
  },
  {
   "cell_type": "markdown",
   "id": "dd120a03",
   "metadata": {},
   "source": [
    "<a id=questiont4></a>\n",
    "#### Combine two above tuples to a single tuple."
   ]
  },
  {
   "cell_type": "code",
   "execution_count": 27,
   "id": "fadd9f93",
   "metadata": {},
   "outputs": [
    {
     "name": "stdout",
     "output_type": "stream",
     "text": [
      "(220, 43, 45, 30, 60, 32, 'amazon', 'apple', 'facebook', 'google', 'hisilicon', 'microsoft', 'sensetime', 'nvidia', 'openai', 'qualcomm')\n"
     ]
    }
   ],
   "source": [
    "t3=prices+t1\n",
    "print(t3)"
   ]
  },
  {
   "cell_type": "markdown",
   "id": "25576e9b",
   "metadata": {},
   "source": [
    "<a id=questiont5></a>\n",
    "#### Compare the length of two tuples."
   ]
  },
  {
   "cell_type": "code",
   "execution_count": 28,
   "id": "740bf1cc",
   "metadata": {},
   "outputs": [
    {
     "name": "stdout",
     "output_type": "stream",
     "text": [
      "6 10 16\n"
     ]
    }
   ],
   "source": [
    "print(len(prices),len(t1),len(t3))"
   ]
  }
 ],
 "metadata": {
  "kernelspec": {
   "display_name": "Python 3 (ipykernel)",
   "language": "python",
   "name": "python3"
  },
  "language_info": {
   "codemirror_mode": {
    "name": "ipython",
    "version": 3
   },
   "file_extension": ".py",
   "mimetype": "text/x-python",
   "name": "python",
   "nbconvert_exporter": "python",
   "pygments_lexer": "ipython3",
   "version": "3.8.6"
  }
 },
 "nbformat": 4,
 "nbformat_minor": 5
}
