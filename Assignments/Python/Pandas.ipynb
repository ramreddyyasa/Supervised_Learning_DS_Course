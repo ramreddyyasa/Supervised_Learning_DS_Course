{
 "cells": [
  {
   "cell_type": "markdown",
   "id": "a1a3e473",
   "metadata": {},
   "source": [
    "# Pandas\n",
    "\n",
    "- [Create a Datatime index containing all the weekdays days of year 2019 and assign a random number to each of them in a dataframe. ](#question1)\n",
    "\n",
    "- [Given Pandas series , height = [23,42,55] and weight = [71,32,48] . Create a dataframe with height and weight as column names](#question2)\n",
    "\n",
    "- [How to get the items of series A not present in series B .From ser1 remove items present in ser2](#question3)\n",
    "    ```python\n",
    "    ser1 = pd.Series([2,3,4,5])\n",
    "    ser2 = pd.Series([5,6,7,8])\n",
    "    ```\n",
    "\n",
    "## Questions on Titanic Dataset:\n",
    "\n",
    "- [Compute the minimum, 25th percentile, median, 75th, and maximum of age in titanic dataset](#question4)\n",
    "\n",
    "- [How to get frequency counts of unique items of a series? Calculate the frequency counts of ‘SibSp’ column in titanic Dataset](#question5)\n",
    "\n",
    "- [Keep only top 2 most frequent values as it is and replace everything else as ‘Other’ in ‘Embarked’ column of titanic dataset](#question6)\n",
    "\n",
    "- [Bin the price column in titanic dataset into 5 equal groups and get counts of each bin](#question7)\n",
    "\n",
    "- [Count the number of missing values in each column?](#question8)\n",
    "\n",
    "- [Get the row number of the 5th largest value in the Age column of the titanic dataset.](#question9)\n",
    "\n",
    "- [Normalize all columns in a dataframe?](#question10)\n",
    "\n",
    "- [Get the indices of items of ser2 in ser1 as a list](#question11)\n",
    "    ```python\n",
    "    ser1 = pd.Series([10,9,6,5,3,1,12,8,13])\n",
    "    ser2 = pd.Series([1,3,10,13])\n",
    "    ```\n",
    "\n",
    "- [How to convert a series of date-strings to a timeseries?](#question12)\n",
    "    ```\n",
    "    ['01 Jan 2010','02-02-2011','20120303', '2013/04/04', '2014-05-05', '2015-06-06T12:20']\n",
    "    ```\n",
    "\n",
    "- [Get the day of month, week number, day of year and day of week from ser.](#question13)\n",
    "    ```python\n",
    "    ser =pd.Series(['01 Jan 2010','02-02-2011','20120303', '2013/04/04', '2014-05-05', '2015-06-06T12:20'])\n",
    "    ```\n",
    "\n",
    "- [Compute the euclidean distance between series p and q, without using a packaged formula](#question14)\n",
    "    ```python\n",
    "    p = pd.Series([1,2,3,4,5,6,7,8,9,10])\n",
    "    q = pd.Series([10,9,8,7,6,5,4,3,2,1])\n",
    "    ```\n",
    "- [How to create a TimeSeries starting '2000-01-01' and 10 weekends (saturdays/sundays)](#question15)\n",
    "\n",
    "- [Import every 50th row of BostonHousing dataset as a dataframe](#question16)"
   ]
  },
  {
   "cell_type": "code",
   "execution_count": 1,
   "id": "63dfb54e",
   "metadata": {},
   "outputs": [],
   "source": [
    "import pandas as pd\n",
    "import numpy as np"
   ]
  },
  {
   "cell_type": "markdown",
   "id": "b806810d",
   "metadata": {},
   "source": [
    "<a id=question1></a>\n",
    "### Question 1\n",
    "\n",
    "#### Create a Datatime index containing all the weekdays days of year 2019 and assign a random number to each of them in a dataframe. "
   ]
  },
  {
   "cell_type": "code",
   "execution_count": 2,
   "id": "6a3e1971",
   "metadata": {},
   "outputs": [
    {
     "data": {
      "text/html": [
       "<div>\n",
       "<style scoped>\n",
       "    .dataframe tbody tr th:only-of-type {\n",
       "        vertical-align: middle;\n",
       "    }\n",
       "\n",
       "    .dataframe tbody tr th {\n",
       "        vertical-align: top;\n",
       "    }\n",
       "\n",
       "    .dataframe thead th {\n",
       "        text-align: right;\n",
       "    }\n",
       "</style>\n",
       "<table border=\"1\" class=\"dataframe\">\n",
       "  <thead>\n",
       "    <tr style=\"text-align: right;\">\n",
       "      <th></th>\n",
       "      <th>random</th>\n",
       "    </tr>\n",
       "  </thead>\n",
       "  <tbody>\n",
       "    <tr>\n",
       "      <th>2019-01-01</th>\n",
       "      <td>19</td>\n",
       "    </tr>\n",
       "    <tr>\n",
       "      <th>2019-01-02</th>\n",
       "      <td>142</td>\n",
       "    </tr>\n",
       "    <tr>\n",
       "      <th>2019-01-03</th>\n",
       "      <td>231</td>\n",
       "    </tr>\n",
       "    <tr>\n",
       "      <th>2019-01-04</th>\n",
       "      <td>323</td>\n",
       "    </tr>\n",
       "    <tr>\n",
       "      <th>2019-01-05</th>\n",
       "      <td>193</td>\n",
       "    </tr>\n",
       "    <tr>\n",
       "      <th>...</th>\n",
       "      <td>...</td>\n",
       "    </tr>\n",
       "    <tr>\n",
       "      <th>2019-12-27</th>\n",
       "      <td>90</td>\n",
       "    </tr>\n",
       "    <tr>\n",
       "      <th>2019-12-28</th>\n",
       "      <td>325</td>\n",
       "    </tr>\n",
       "    <tr>\n",
       "      <th>2019-12-29</th>\n",
       "      <td>97</td>\n",
       "    </tr>\n",
       "    <tr>\n",
       "      <th>2019-12-30</th>\n",
       "      <td>238</td>\n",
       "    </tr>\n",
       "    <tr>\n",
       "      <th>2019-12-31</th>\n",
       "      <td>144</td>\n",
       "    </tr>\n",
       "  </tbody>\n",
       "</table>\n",
       "<p>365 rows × 1 columns</p>\n",
       "</div>"
      ],
      "text/plain": [
       "            random\n",
       "2019-01-01      19\n",
       "2019-01-02     142\n",
       "2019-01-03     231\n",
       "2019-01-04     323\n",
       "2019-01-05     193\n",
       "...            ...\n",
       "2019-12-27      90\n",
       "2019-12-28     325\n",
       "2019-12-29      97\n",
       "2019-12-30     238\n",
       "2019-12-31     144\n",
       "\n",
       "[365 rows x 1 columns]"
      ]
     },
     "execution_count": 2,
     "metadata": {},
     "output_type": "execute_result"
    }
   ],
   "source": [
    "index = pd.date_range('2019',periods=365, freq='D')\n",
    "values = np.random.randint(low=0, high=365,size=(365,))\n",
    "df = pd.DataFrame(values, index=index, columns=['random'])\n",
    "df"
   ]
  },
  {
   "cell_type": "markdown",
   "id": "2c9702cd",
   "metadata": {},
   "source": [
    "<a id='question2'></a>\n",
    "### Question 2\n",
    "#### Given Pandas series , height = [23,42,55] and weight = [71,32,48] . Create a dataframe with height and weight as column names"
   ]
  },
  {
   "cell_type": "code",
   "execution_count": 3,
   "id": "c989d5e2",
   "metadata": {},
   "outputs": [
    {
     "data": {
      "text/html": [
       "<div>\n",
       "<style scoped>\n",
       "    .dataframe tbody tr th:only-of-type {\n",
       "        vertical-align: middle;\n",
       "    }\n",
       "\n",
       "    .dataframe tbody tr th {\n",
       "        vertical-align: top;\n",
       "    }\n",
       "\n",
       "    .dataframe thead th {\n",
       "        text-align: right;\n",
       "    }\n",
       "</style>\n",
       "<table border=\"1\" class=\"dataframe\">\n",
       "  <thead>\n",
       "    <tr style=\"text-align: right;\">\n",
       "      <th></th>\n",
       "      <th>height</th>\n",
       "      <th>weight</th>\n",
       "    </tr>\n",
       "  </thead>\n",
       "  <tbody>\n",
       "    <tr>\n",
       "      <th>0</th>\n",
       "      <td>23</td>\n",
       "      <td>71</td>\n",
       "    </tr>\n",
       "    <tr>\n",
       "      <th>1</th>\n",
       "      <td>42</td>\n",
       "      <td>32</td>\n",
       "    </tr>\n",
       "    <tr>\n",
       "      <th>2</th>\n",
       "      <td>55</td>\n",
       "      <td>48</td>\n",
       "    </tr>\n",
       "  </tbody>\n",
       "</table>\n",
       "</div>"
      ],
      "text/plain": [
       "   height  weight\n",
       "0      23      71\n",
       "1      42      32\n",
       "2      55      48"
      ]
     },
     "execution_count": 3,
     "metadata": {},
     "output_type": "execute_result"
    }
   ],
   "source": [
    "height = [23, 42, 55]\n",
    "weight = [71, 32, 48]\n",
    "\n",
    "column_names = ['height', 'weight']\n",
    "df = pd.DataFrame(np.array([height,weight]).T, columns= column_names)\n",
    "df"
   ]
  },
  {
   "cell_type": "markdown",
   "id": "42a17460",
   "metadata": {},
   "source": [
    "<a id='question3'></a>\n",
    "\n",
    "### Question 3\n",
    "#### How to get the items of series A not present in series B .From ser1 remove items present in ser2.\n",
    "\n",
    "```\n",
    "ser1 = pd.Series([2,3,4,5])\n",
    "ser2 = pd.Series([5,6,7,8])\n",
    "```"
   ]
  },
  {
   "cell_type": "code",
   "execution_count": 4,
   "id": "42a1f75a",
   "metadata": {},
   "outputs": [
    {
     "name": "stdout",
     "output_type": "stream",
     "text": [
      "\n",
      "Items of series A not present in series B:\n",
      "0    2\n",
      "1    3\n",
      "2    4\n",
      "dtype: int64\n"
     ]
    }
   ],
   "source": [
    "ser1 = pd.Series([2,3,4,5])\n",
    "ser2 = pd.Series([5,6,7,8])\n",
    "\n",
    "serA_not_in_serB = ser1[~ser1.isin(ser2)]\n",
    "\n",
    "# print(\"ser1:\\n\", ser1)\n",
    "\n",
    "print(\"\\nItems of series A not present in series B:\")\n",
    "print(serA_not_in_serB)"
   ]
  },
  {
   "cell_type": "markdown",
   "id": "b0e27f2a",
   "metadata": {},
   "source": [
    "<a id='question4'></a>\n",
    "\n",
    "## Questions on Titanic Dataset\n",
    "\n",
    "### Question 4\n",
    "#### Compute the minimum, 25th percentile, median, 75th, and maximum of age in titanic dataset"
   ]
  },
  {
   "cell_type": "code",
   "execution_count": 5,
   "id": "844037f2",
   "metadata": {},
   "outputs": [
    {
     "name": "stdout",
     "output_type": "stream",
     "text": [
      "Minimum Age: 0.42\n",
      "25th percentile Age: 20.125\n",
      "Median Age: 28.0\n",
      "75th percentile Age: 38.0\n",
      "Maximum Age: 80.0\n"
     ]
    }
   ],
   "source": [
    "titanic = pd.read_csv(\"../../datasets/titanic.csv\")\n",
    "\n",
    "age_stats = titanic.Age.describe()\n",
    "\n",
    "print(\"Minimum Age:\", age_stats['min'])\n",
    "print(\"25th percentile Age:\", age_stats['25%'])\n",
    "print(\"Median Age:\", age_stats['50%'])\n",
    "print(\"75th percentile Age:\", age_stats['75%'])\n",
    "print(\"Maximum Age:\", age_stats['max'])"
   ]
  },
  {
   "cell_type": "markdown",
   "id": "500ccd0b",
   "metadata": {},
   "source": [
    "<a id=question5></a>\n",
    "### Question 5\n",
    "#### How to get frequency counts of unique items of a series? Calculate the frequency counts of ‘SibSp’ column in titanic Dataset\n",
    "\n",
    "* To get the frequency counts of unique items of a series we will use value_counts() function in series"
   ]
  },
  {
   "cell_type": "code",
   "execution_count": 6,
   "id": "73099b2c",
   "metadata": {},
   "outputs": [
    {
     "data": {
      "text/plain": [
       "0    608\n",
       "1    209\n",
       "2     28\n",
       "4     18\n",
       "3     16\n",
       "8      7\n",
       "5      5\n",
       "Name: SibSp, dtype: int64"
      ]
     },
     "execution_count": 6,
     "metadata": {},
     "output_type": "execute_result"
    }
   ],
   "source": [
    "titanic.SibSp.value_counts()"
   ]
  },
  {
   "cell_type": "markdown",
   "id": "447d19f7",
   "metadata": {},
   "source": [
    "<a id=question6></a>\n",
    "### Question 6\n",
    "#### Keep only top 2 most frequent values as it is and replace everything else as ‘Other’ in ‘Embarked’ column of titanic dataset"
   ]
  },
  {
   "cell_type": "code",
   "execution_count": 7,
   "id": "1d330f69",
   "metadata": {},
   "outputs": [],
   "source": [
    "records = titanic['Embarked'].value_counts()[:2]\n",
    "titanic.loc[~titanic['Embarked'].isin(records.keys()), 'Embarked'] = 'Other'"
   ]
  },
  {
   "cell_type": "markdown",
   "id": "f63f4544",
   "metadata": {},
   "source": [
    "<a id=question7></a>\n",
    "### Question 7\n",
    "#### Bin the price column in titanic dataset into 5 equal groups and get counts of each bin"
   ]
  },
  {
   "cell_type": "code",
   "execution_count": 8,
   "id": "ccede941",
   "metadata": {},
   "outputs": [
    {
     "data": {
      "text/plain": [
       "count    891.000000\n",
       "mean      32.204208\n",
       "std       49.693429\n",
       "min        0.000000\n",
       "25%        7.910400\n",
       "50%       14.454200\n",
       "75%       31.000000\n",
       "max      512.329200\n",
       "Name: Fare, dtype: float64"
      ]
     },
     "execution_count": 8,
     "metadata": {},
     "output_type": "execute_result"
    }
   ],
   "source": [
    "titanic.Fare.describe()"
   ]
  },
  {
   "cell_type": "markdown",
   "id": "9b2b8547",
   "metadata": {},
   "source": [
    "As we can see from above mean>median => Fare is right skewed."
   ]
  },
  {
   "cell_type": "code",
   "execution_count": 9,
   "id": "972fbb35",
   "metadata": {},
   "outputs": [
    {
     "data": {
      "text/plain": [
       "(0, 8]        226\n",
       "(8, 15]       217\n",
       "(15, 30]      199\n",
       "(30, 100]     181\n",
       "(100, 512]     50\n",
       "Name: Fare, dtype: int64"
      ]
     },
     "execution_count": 9,
     "metadata": {},
     "output_type": "execute_result"
    }
   ],
   "source": [
    "titanic.Fare = pd.cut(titanic.Fare, bins = [0, 8, 15, 30, 100, 512])\n",
    "titanic.Fare.value_counts()"
   ]
  },
  {
   "cell_type": "markdown",
   "id": "f1078790",
   "metadata": {},
   "source": [
    "<a id=question8></a>\n",
    "### Question 8\n",
    "#### Count the number of missing values in each column?"
   ]
  },
  {
   "cell_type": "code",
   "execution_count": 10,
   "id": "ed905e5b",
   "metadata": {},
   "outputs": [
    {
     "data": {
      "text/plain": [
       "PassengerId      0\n",
       "Survived         0\n",
       "Pclass           0\n",
       "Name             0\n",
       "Sex              0\n",
       "Age            177\n",
       "SibSp            0\n",
       "Parch            0\n",
       "Ticket           0\n",
       "Fare            18\n",
       "Cabin          687\n",
       "Embarked         0\n",
       "dtype: int64"
      ]
     },
     "execution_count": 10,
     "metadata": {},
     "output_type": "execute_result"
    }
   ],
   "source": [
    "titanic.isnull().sum()"
   ]
  },
  {
   "cell_type": "markdown",
   "id": "3bbde816",
   "metadata": {},
   "source": [
    "<a id=question9></a>\n",
    "### Question 9\n",
    "#### Get the row number of the 5th largest value in the Age column of the titanic dataset."
   ]
  },
  {
   "cell_type": "code",
   "execution_count": 11,
   "id": "71edd428",
   "metadata": {},
   "outputs": [
    {
     "data": {
      "text/plain": [
       "70.5"
      ]
     },
     "execution_count": 11,
     "metadata": {},
     "output_type": "execute_result"
    }
   ],
   "source": [
    "titanic.Age.sort_values(ascending=False).reset_index(drop=True).iloc[4]"
   ]
  },
  {
   "cell_type": "markdown",
   "id": "d334405b",
   "metadata": {},
   "source": [
    "<a id=question10></a>\n",
    "### Question 10\n",
    "#### Normalize all columns in a dataframe?"
   ]
  },
  {
   "cell_type": "code",
   "execution_count": 12,
   "id": "8074c78a",
   "metadata": {},
   "outputs": [
    {
     "data": {
      "text/html": [
       "<div>\n",
       "<style scoped>\n",
       "    .dataframe tbody tr th:only-of-type {\n",
       "        vertical-align: middle;\n",
       "    }\n",
       "\n",
       "    .dataframe tbody tr th {\n",
       "        vertical-align: top;\n",
       "    }\n",
       "\n",
       "    .dataframe thead th {\n",
       "        text-align: right;\n",
       "    }\n",
       "</style>\n",
       "<table border=\"1\" class=\"dataframe\">\n",
       "  <thead>\n",
       "    <tr style=\"text-align: right;\">\n",
       "      <th></th>\n",
       "      <th>height</th>\n",
       "      <th>weight</th>\n",
       "    </tr>\n",
       "  </thead>\n",
       "  <tbody>\n",
       "    <tr>\n",
       "      <th>0</th>\n",
       "      <td>0.00000</td>\n",
       "      <td>1.000000</td>\n",
       "    </tr>\n",
       "    <tr>\n",
       "      <th>1</th>\n",
       "      <td>0.59375</td>\n",
       "      <td>0.000000</td>\n",
       "    </tr>\n",
       "    <tr>\n",
       "      <th>2</th>\n",
       "      <td>1.00000</td>\n",
       "      <td>0.410256</td>\n",
       "    </tr>\n",
       "  </tbody>\n",
       "</table>\n",
       "</div>"
      ],
      "text/plain": [
       "    height    weight\n",
       "0  0.00000  1.000000\n",
       "1  0.59375  0.000000\n",
       "2  1.00000  0.410256"
      ]
     },
     "execution_count": 12,
     "metadata": {},
     "output_type": "execute_result"
    }
   ],
   "source": [
    "height = [23, 42, 55]\n",
    "weight = [71, 32, 48]\n",
    "\n",
    "column_names = ['height', 'weight']\n",
    "df = pd.DataFrame(np.array([height,weight]).T, columns= column_names)\n",
    "\n",
    "#normalizing all numeric columns\n",
    "df_normalized = (df-df.min())/(df.max()-df.min())\n",
    "df_normalized"
   ]
  },
  {
   "cell_type": "markdown",
   "id": "8487ed8c",
   "metadata": {},
   "source": [
    "<a id=question11></a>\n",
    "### Question 11 \n",
    "\n",
    "### Get the indices of items of ser2 in ser1 as a list\n",
    "\n",
    "```python\n",
    "ser1 = pd.Series([10,9,6,5,3,1,12,8,13])\n",
    "ser2 = pd.Series([1,3,10,13])\n",
    "```"
   ]
  },
  {
   "cell_type": "code",
   "execution_count": 13,
   "id": "2b13c206",
   "metadata": {},
   "outputs": [
    {
     "data": {
      "text/plain": [
       "[0, 4, 5, 8]"
      ]
     },
     "execution_count": 13,
     "metadata": {},
     "output_type": "execute_result"
    }
   ],
   "source": [
    "ser1 = pd.Series([10,9,6,5,3,1,12,8,13])\n",
    "ser2 = pd.Series([1,3,10,13])\n",
    "\n",
    "ser1.index[ser1.isin(ser2)].tolist()"
   ]
  },
  {
   "cell_type": "markdown",
   "id": "47a0171c",
   "metadata": {},
   "source": [
    "<a id=question12></a>\n",
    "### Question 12\n",
    "\n",
    "#### How to convert a series of date-strings to a timeseries?\n",
    "\n",
    "```\n",
    "['01 Jan 2010','02-02-2011','20120303', '2013/04/04', '2014-05-05', '2015-06-06T12:20']\n",
    "```"
   ]
  },
  {
   "cell_type": "code",
   "execution_count": 14,
   "id": "621db9a6",
   "metadata": {},
   "outputs": [
    {
     "data": {
      "text/plain": [
       "DatetimeIndex(['2010-01-01 00:00:00', '2011-02-02 00:00:00',\n",
       "               '2012-03-03 00:00:00', '2013-04-04 00:00:00',\n",
       "               '2014-05-05 00:00:00', '2015-06-06 12:20:00'],\n",
       "              dtype='datetime64[ns]', freq=None)"
      ]
     },
     "execution_count": 14,
     "metadata": {},
     "output_type": "execute_result"
    }
   ],
   "source": [
    "dates = ['01 Jan 2010','02-02-2011','20120303', '2013/04/04', '2014-05-05', '2015-06-06T12:20']\n",
    "\n",
    "date_series = pd.to_datetime(dates)\n",
    "\n",
    "date_series"
   ]
  },
  {
   "cell_type": "markdown",
   "id": "553508eb",
   "metadata": {},
   "source": [
    "<a id=question13></a>\n",
    "### Question 13\n",
    "#### Get the day of month, week number, day of year and day of week from ser.\n",
    "\n",
    "```python\n",
    "ser = pd.Series(['01 Jan 2010','02-02-2011','20120303', '2013/04/04', '2014-05-05', '2015-06-06T12:20'])\n",
    "```"
   ]
  },
  {
   "cell_type": "code",
   "execution_count": 15,
   "id": "24b8624c",
   "metadata": {},
   "outputs": [
    {
     "data": {
      "text/html": [
       "<div>\n",
       "<style scoped>\n",
       "    .dataframe tbody tr th:only-of-type {\n",
       "        vertical-align: middle;\n",
       "    }\n",
       "\n",
       "    .dataframe tbody tr th {\n",
       "        vertical-align: top;\n",
       "    }\n",
       "\n",
       "    .dataframe thead th {\n",
       "        text-align: right;\n",
       "    }\n",
       "</style>\n",
       "<table border=\"1\" class=\"dataframe\">\n",
       "  <thead>\n",
       "    <tr style=\"text-align: right;\">\n",
       "      <th></th>\n",
       "      <th>ser</th>\n",
       "      <th>day_month</th>\n",
       "      <th>weeks</th>\n",
       "      <th>day_yr</th>\n",
       "      <th>day_week</th>\n",
       "    </tr>\n",
       "  </thead>\n",
       "  <tbody>\n",
       "    <tr>\n",
       "      <th>0</th>\n",
       "      <td>01 Jan 2010</td>\n",
       "      <td>1</td>\n",
       "      <td>53</td>\n",
       "      <td>1</td>\n",
       "      <td>4</td>\n",
       "    </tr>\n",
       "    <tr>\n",
       "      <th>1</th>\n",
       "      <td>02-02-2011</td>\n",
       "      <td>2</td>\n",
       "      <td>5</td>\n",
       "      <td>33</td>\n",
       "      <td>2</td>\n",
       "    </tr>\n",
       "    <tr>\n",
       "      <th>2</th>\n",
       "      <td>20120303</td>\n",
       "      <td>3</td>\n",
       "      <td>9</td>\n",
       "      <td>63</td>\n",
       "      <td>5</td>\n",
       "    </tr>\n",
       "    <tr>\n",
       "      <th>3</th>\n",
       "      <td>2013/04/04</td>\n",
       "      <td>4</td>\n",
       "      <td>14</td>\n",
       "      <td>94</td>\n",
       "      <td>3</td>\n",
       "    </tr>\n",
       "    <tr>\n",
       "      <th>4</th>\n",
       "      <td>2014-05-05</td>\n",
       "      <td>5</td>\n",
       "      <td>19</td>\n",
       "      <td>125</td>\n",
       "      <td>0</td>\n",
       "    </tr>\n",
       "    <tr>\n",
       "      <th>5</th>\n",
       "      <td>2015-06-06T12:20</td>\n",
       "      <td>6</td>\n",
       "      <td>23</td>\n",
       "      <td>157</td>\n",
       "      <td>5</td>\n",
       "    </tr>\n",
       "  </tbody>\n",
       "</table>\n",
       "</div>"
      ],
      "text/plain": [
       "                ser  day_month  weeks  day_yr  day_week\n",
       "0       01 Jan 2010          1     53       1         4\n",
       "1        02-02-2011          2      5      33         2\n",
       "2          20120303          3      9      63         5\n",
       "3        2013/04/04          4     14      94         3\n",
       "4        2014-05-05          5     19     125         0\n",
       "5  2015-06-06T12:20          6     23     157         5"
      ]
     },
     "execution_count": 15,
     "metadata": {},
     "output_type": "execute_result"
    }
   ],
   "source": [
    "ser = pd.Series(['01 Jan 2010','02-02-2011','20120303', '2013/04/04', '2014-05-05', '2015-06-06T12:20'])\n",
    "\n",
    "\n",
    "df_ser = pd.DataFrame(ser, columns=['ser'])\n",
    "\n",
    "date_series = pd.to_datetime(ser)\n",
    "\n",
    "df_ser['day_month'] = date_series.dt.day\n",
    "df_ser['weeks']      = date_series.dt.isocalendar().week\n",
    "df_ser['day_yr']    = date_series.dt.day_of_year\n",
    "df_ser['day_week']  = date_series.dt.day_of_week\n",
    "\n",
    "df_ser"
   ]
  },
  {
   "cell_type": "markdown",
   "id": "8c79ff85",
   "metadata": {},
   "source": [
    "<a id=question14></a>\n",
    "### Question 14\n",
    "#### Compute the euclidean distance between series p and q, without using a packaged formula\n",
    "\n",
    "```python\n",
    "p = pd.Series([1,2,3,4,5,6,7,8,9,10])\n",
    "q = pd.Series([10,9,8,7,6,5,4,3,2,1])\n",
    "```"
   ]
  },
  {
   "cell_type": "code",
   "execution_count": 16,
   "id": "11bbc2b1",
   "metadata": {},
   "outputs": [
    {
     "name": "stdout",
     "output_type": "stream",
     "text": [
      "Euclidean Distance: 18.16590212458495\n"
     ]
    }
   ],
   "source": [
    "p = pd.Series([1,2,3,4,5,6,7,8,9,10])\n",
    "q = pd.Series([10,9,8,7,6,5,4,3,2,1])\n",
    "\n",
    "euclidean_distance = np.sqrt(np.sum((p-q)**2))\n",
    "print(\"Euclidean Distance:\", euclidean_distance)"
   ]
  },
  {
   "cell_type": "markdown",
   "id": "5004556d",
   "metadata": {},
   "source": [
    "<a id=question15></a>\n",
    "### Question 15\n",
    "#### How to create a TimeSeries starting '2000-01-01' and 10 weekends (saturdays/sundays)"
   ]
  },
  {
   "cell_type": "code",
   "execution_count": 17,
   "id": "e6978a8d",
   "metadata": {},
   "outputs": [
    {
     "data": {
      "text/plain": [
       "DatetimeIndex(['2000-01-02', '2000-01-09', '2000-01-16', '2000-01-23',\n",
       "               '2000-01-30', '2000-02-06', '2000-02-13', '2000-02-20',\n",
       "               '2000-02-27', '2000-03-05'],\n",
       "              dtype='datetime64[ns]', freq='W-SUN')"
      ]
     },
     "execution_count": 17,
     "metadata": {},
     "output_type": "execute_result"
    }
   ],
   "source": [
    "pd.date_range('2000-01-01', periods=10, freq='W')"
   ]
  },
  {
   "cell_type": "markdown",
   "id": "d0d5d4a4",
   "metadata": {},
   "source": [
    "<a id=question16></a>\n",
    "### Question 16\n",
    "#### Import every 50th row of BostonHousing dataset as a dataframe"
   ]
  },
  {
   "cell_type": "code",
   "execution_count": 18,
   "id": "613645eb",
   "metadata": {},
   "outputs": [
    {
     "data": {
      "text/html": [
       "<div>\n",
       "<style scoped>\n",
       "    .dataframe tbody tr th:only-of-type {\n",
       "        vertical-align: middle;\n",
       "    }\n",
       "\n",
       "    .dataframe tbody tr th {\n",
       "        vertical-align: top;\n",
       "    }\n",
       "\n",
       "    .dataframe thead th {\n",
       "        text-align: right;\n",
       "    }\n",
       "</style>\n",
       "<table border=\"1\" class=\"dataframe\">\n",
       "  <thead>\n",
       "    <tr style=\"text-align: right;\">\n",
       "      <th></th>\n",
       "      <th>CRIM</th>\n",
       "      <th>ZN</th>\n",
       "      <th>INDUS</th>\n",
       "      <th>CHAS</th>\n",
       "      <th>NOX</th>\n",
       "      <th>RM</th>\n",
       "      <th>AGE</th>\n",
       "      <th>DIS</th>\n",
       "      <th>RAD</th>\n",
       "      <th>TAX</th>\n",
       "      <th>PTRATIO</th>\n",
       "      <th>B</th>\n",
       "      <th>LSTAT</th>\n",
       "      <th>MEDV</th>\n",
       "    </tr>\n",
       "  </thead>\n",
       "  <tbody>\n",
       "    <tr>\n",
       "      <th>49</th>\n",
       "      <td>0.21977</td>\n",
       "      <td>0.0</td>\n",
       "      <td>6.91</td>\n",
       "      <td>0.0</td>\n",
       "      <td>0.448</td>\n",
       "      <td>5.602</td>\n",
       "      <td>62.0</td>\n",
       "      <td>6.0877</td>\n",
       "      <td>3.0</td>\n",
       "      <td>233.0</td>\n",
       "      <td>17.9</td>\n",
       "      <td>396.90</td>\n",
       "      <td>16.20</td>\n",
       "      <td>19.4</td>\n",
       "    </tr>\n",
       "    <tr>\n",
       "      <th>99</th>\n",
       "      <td>0.06860</td>\n",
       "      <td>0.0</td>\n",
       "      <td>2.89</td>\n",
       "      <td>0.0</td>\n",
       "      <td>0.445</td>\n",
       "      <td>7.416</td>\n",
       "      <td>62.5</td>\n",
       "      <td>3.4952</td>\n",
       "      <td>2.0</td>\n",
       "      <td>276.0</td>\n",
       "      <td>18.0</td>\n",
       "      <td>396.90</td>\n",
       "      <td>6.19</td>\n",
       "      <td>33.2</td>\n",
       "    </tr>\n",
       "    <tr>\n",
       "      <th>149</th>\n",
       "      <td>2.73397</td>\n",
       "      <td>0.0</td>\n",
       "      <td>19.58</td>\n",
       "      <td>0.0</td>\n",
       "      <td>0.871</td>\n",
       "      <td>5.597</td>\n",
       "      <td>94.9</td>\n",
       "      <td>1.5257</td>\n",
       "      <td>5.0</td>\n",
       "      <td>403.0</td>\n",
       "      <td>14.7</td>\n",
       "      <td>351.85</td>\n",
       "      <td>21.45</td>\n",
       "      <td>15.4</td>\n",
       "    </tr>\n",
       "    <tr>\n",
       "      <th>199</th>\n",
       "      <td>0.03150</td>\n",
       "      <td>95.0</td>\n",
       "      <td>1.47</td>\n",
       "      <td>0.0</td>\n",
       "      <td>0.403</td>\n",
       "      <td>6.975</td>\n",
       "      <td>15.3</td>\n",
       "      <td>7.6534</td>\n",
       "      <td>3.0</td>\n",
       "      <td>402.0</td>\n",
       "      <td>17.0</td>\n",
       "      <td>396.90</td>\n",
       "      <td>4.56</td>\n",
       "      <td>34.9</td>\n",
       "    </tr>\n",
       "    <tr>\n",
       "      <th>249</th>\n",
       "      <td>0.19073</td>\n",
       "      <td>22.0</td>\n",
       "      <td>5.86</td>\n",
       "      <td>0.0</td>\n",
       "      <td>0.431</td>\n",
       "      <td>6.718</td>\n",
       "      <td>17.5</td>\n",
       "      <td>7.8265</td>\n",
       "      <td>7.0</td>\n",
       "      <td>330.0</td>\n",
       "      <td>19.1</td>\n",
       "      <td>393.74</td>\n",
       "      <td>6.56</td>\n",
       "      <td>26.2</td>\n",
       "    </tr>\n",
       "    <tr>\n",
       "      <th>299</th>\n",
       "      <td>0.05561</td>\n",
       "      <td>70.0</td>\n",
       "      <td>2.24</td>\n",
       "      <td>0.0</td>\n",
       "      <td>0.400</td>\n",
       "      <td>7.041</td>\n",
       "      <td>10.0</td>\n",
       "      <td>7.8278</td>\n",
       "      <td>5.0</td>\n",
       "      <td>358.0</td>\n",
       "      <td>14.8</td>\n",
       "      <td>371.58</td>\n",
       "      <td>4.74</td>\n",
       "      <td>29.0</td>\n",
       "    </tr>\n",
       "    <tr>\n",
       "      <th>349</th>\n",
       "      <td>0.02899</td>\n",
       "      <td>40.0</td>\n",
       "      <td>1.25</td>\n",
       "      <td>0.0</td>\n",
       "      <td>0.429</td>\n",
       "      <td>6.939</td>\n",
       "      <td>34.5</td>\n",
       "      <td>8.7921</td>\n",
       "      <td>1.0</td>\n",
       "      <td>335.0</td>\n",
       "      <td>19.7</td>\n",
       "      <td>389.85</td>\n",
       "      <td>5.89</td>\n",
       "      <td>26.6</td>\n",
       "    </tr>\n",
       "    <tr>\n",
       "      <th>399</th>\n",
       "      <td>9.91655</td>\n",
       "      <td>0.0</td>\n",
       "      <td>18.10</td>\n",
       "      <td>0.0</td>\n",
       "      <td>0.693</td>\n",
       "      <td>5.852</td>\n",
       "      <td>77.8</td>\n",
       "      <td>1.5004</td>\n",
       "      <td>24.0</td>\n",
       "      <td>666.0</td>\n",
       "      <td>20.2</td>\n",
       "      <td>338.16</td>\n",
       "      <td>29.97</td>\n",
       "      <td>6.3</td>\n",
       "    </tr>\n",
       "    <tr>\n",
       "      <th>449</th>\n",
       "      <td>7.52601</td>\n",
       "      <td>0.0</td>\n",
       "      <td>18.10</td>\n",
       "      <td>0.0</td>\n",
       "      <td>0.713</td>\n",
       "      <td>6.417</td>\n",
       "      <td>98.3</td>\n",
       "      <td>2.1850</td>\n",
       "      <td>24.0</td>\n",
       "      <td>666.0</td>\n",
       "      <td>20.2</td>\n",
       "      <td>304.21</td>\n",
       "      <td>19.31</td>\n",
       "      <td>13.0</td>\n",
       "    </tr>\n",
       "    <tr>\n",
       "      <th>499</th>\n",
       "      <td>0.17783</td>\n",
       "      <td>0.0</td>\n",
       "      <td>9.69</td>\n",
       "      <td>0.0</td>\n",
       "      <td>0.585</td>\n",
       "      <td>5.569</td>\n",
       "      <td>73.5</td>\n",
       "      <td>2.3999</td>\n",
       "      <td>6.0</td>\n",
       "      <td>391.0</td>\n",
       "      <td>19.2</td>\n",
       "      <td>395.77</td>\n",
       "      <td>15.10</td>\n",
       "      <td>17.5</td>\n",
       "    </tr>\n",
       "  </tbody>\n",
       "</table>\n",
       "</div>"
      ],
      "text/plain": [
       "        CRIM    ZN  INDUS  CHAS    NOX     RM   AGE     DIS   RAD    TAX  \\\n",
       "49   0.21977   0.0   6.91   0.0  0.448  5.602  62.0  6.0877   3.0  233.0   \n",
       "99   0.06860   0.0   2.89   0.0  0.445  7.416  62.5  3.4952   2.0  276.0   \n",
       "149  2.73397   0.0  19.58   0.0  0.871  5.597  94.9  1.5257   5.0  403.0   \n",
       "199  0.03150  95.0   1.47   0.0  0.403  6.975  15.3  7.6534   3.0  402.0   \n",
       "249  0.19073  22.0   5.86   0.0  0.431  6.718  17.5  7.8265   7.0  330.0   \n",
       "299  0.05561  70.0   2.24   0.0  0.400  7.041  10.0  7.8278   5.0  358.0   \n",
       "349  0.02899  40.0   1.25   0.0  0.429  6.939  34.5  8.7921   1.0  335.0   \n",
       "399  9.91655   0.0  18.10   0.0  0.693  5.852  77.8  1.5004  24.0  666.0   \n",
       "449  7.52601   0.0  18.10   0.0  0.713  6.417  98.3  2.1850  24.0  666.0   \n",
       "499  0.17783   0.0   9.69   0.0  0.585  5.569  73.5  2.3999   6.0  391.0   \n",
       "\n",
       "     PTRATIO       B  LSTAT  MEDV  \n",
       "49      17.9  396.90  16.20  19.4  \n",
       "99      18.0  396.90   6.19  33.2  \n",
       "149     14.7  351.85  21.45  15.4  \n",
       "199     17.0  396.90   4.56  34.9  \n",
       "249     19.1  393.74   6.56  26.2  \n",
       "299     14.8  371.58   4.74  29.0  \n",
       "349     19.7  389.85   5.89  26.6  \n",
       "399     20.2  338.16  29.97   6.3  \n",
       "449     20.2  304.21  19.31  13.0  \n",
       "499     19.2  395.77  15.10  17.5  "
      ]
     },
     "execution_count": 18,
     "metadata": {},
     "output_type": "execute_result"
    }
   ],
   "source": [
    "boston = pd.read_csv(\"../../datasets/boston_house_price.csv\")\n",
    "\n",
    "fifty_boston = boston.iloc[lambda x: (x.index+1)%50 == 0]\n",
    "fifty_boston"
   ]
  }
 ],
 "metadata": {
  "kernelspec": {
   "display_name": "ML",
   "language": "python",
   "name": "ml"
  },
  "language_info": {
   "codemirror_mode": {
    "name": "ipython",
    "version": 3
   },
   "file_extension": ".py",
   "mimetype": "text/x-python",
   "name": "python",
   "nbconvert_exporter": "python",
   "pygments_lexer": "ipython3",
   "version": "3.8.6"
  }
 },
 "nbformat": 4,
 "nbformat_minor": 5
}
