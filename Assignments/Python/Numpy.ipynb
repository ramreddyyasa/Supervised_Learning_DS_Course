{
 "cells": [
  {
   "cell_type": "markdown",
   "id": "41856a8e",
   "metadata": {},
   "source": [
    "# Assignment on Numpy"
   ]
  },
  {
   "cell_type": "markdown",
   "id": "424fe313",
   "metadata": {},
   "source": [
    "- [Create a 1D array of numbers from 0 to 9](#question1)\n",
    "\n",
    "- [Create a 3×3 numpy array of all True’s](#question2)\n",
    "\n",
    "- [Given an array as input, print only odd numbers as output](#question3)\n",
    "\n",
    "- [Replace all odd numbers in arr with -2](#question4)\n",
    "\n",
    "- [How to reshape an array?](#question5)\n",
    "\n",
    "- [Convert a 1D array to a 2D array with 2 rows](#question6)\n",
    "\n",
    "- [Given an array  a  = [1,2,3,4,5,6,7,8,9] , create  new array b from a such that b includes all odd numbers and 4 multiples.](#question7)\n",
    "\n",
    "- [Given array, check if there are any null values and print them out](#question8)\n",
    "\n",
    "- [How to replace all missing values with 0 in a numpy array?](#question9)\n",
    "\n",
    "- [How to find the count of each unique number in a NumPy array?](#question10)\n",
    "\n",
    "- [How to convert a numeric to a categorical (text) array?](#question11)\n",
    "\n",
    "- [Write a program to print all numbers between 99 and 299 which are either divisible by 5 or 7. Exclude the elements which are divisible by both.](#question12)\n",
    "\n",
    "- [Write a program to reverse an array and print (Don’t use inbuilt reverse functions)](#question13)"
   ]
  },
  {
   "cell_type": "code",
   "execution_count": 1,
   "id": "c81da887",
   "metadata": {},
   "outputs": [],
   "source": [
    "#loading apckages\n",
    "import numpy as np"
   ]
  },
  {
   "cell_type": "markdown",
   "id": "227ad6f4",
   "metadata": {},
   "source": [
    "<a id=question1></a>\n",
    "### Question 1\n",
    "#### Create a 1D array of numbers from 0 to 9"
   ]
  },
  {
   "cell_type": "code",
   "execution_count": 2,
   "id": "30d7b69b",
   "metadata": {},
   "outputs": [],
   "source": [
    "#creating 1D array of numbers from 0 to 9\n",
    "array= np.arange(10)"
   ]
  },
  {
   "cell_type": "markdown",
   "id": "7d21e951",
   "metadata": {},
   "source": [
    "<a id=question2></a>\n",
    "### Question 2\n",
    "#### Create a 3×3 numpy array of all True’s"
   ]
  },
  {
   "cell_type": "code",
   "execution_count": 3,
   "id": "fa2d3852",
   "metadata": {},
   "outputs": [],
   "source": [
    "#creating a 3*3 numpy array of all True's\n",
    "allT_array =np.full((3,3),True)"
   ]
  },
  {
   "cell_type": "markdown",
   "id": "d5e369cc",
   "metadata": {},
   "source": [
    "<a id=question3></a>\n",
    "### Question 3\n",
    "#### Given an array as input, print only odd numbers as output"
   ]
  },
  {
   "cell_type": "code",
   "execution_count": 4,
   "id": "6e6a712e",
   "metadata": {},
   "outputs": [
    {
     "name": "stdout",
     "output_type": "stream",
     "text": [
      "[1 3 5 7 9]\n"
     ]
    }
   ],
   "source": [
    "#printing only odd numbers as output\n",
    "arr=np.arange(10)\n",
    "print(arr[arr%2!=0])"
   ]
  },
  {
   "cell_type": "markdown",
   "id": "d9558f42",
   "metadata": {},
   "source": [
    "<a id=question4></a>\n",
    "### Question 4\n",
    "#### Replace all odd numbers in arr with -2"
   ]
  },
  {
   "cell_type": "code",
   "execution_count": 5,
   "id": "2cb297fe",
   "metadata": {},
   "outputs": [
    {
     "name": "stdout",
     "output_type": "stream",
     "text": [
      "[ 0 -2  2 -2  4 -2  6 -2  8 -2]\n"
     ]
    }
   ],
   "source": [
    "#replacing all odd numbers in arr wiht -2\n",
    "arr[arr%2!=0]=-2\n",
    "print(arr)"
   ]
  },
  {
   "cell_type": "markdown",
   "id": "bf51bba9",
   "metadata": {},
   "source": [
    "<a id=question5></a>\n",
    "### Question 5\n",
    "#### How to reshape an array?\n",
    " - we reshape an array using reshape function\n",
    "\n",
    "<a id=question6></a>\n",
    "### Question 6\n",
    "#### Convert a 1D array to a 2D array with 2 rows"
   ]
  },
  {
   "cell_type": "code",
   "execution_count": 6,
   "id": "de295e0a",
   "metadata": {},
   "outputs": [
    {
     "name": "stdout",
     "output_type": "stream",
     "text": [
      "(10,)\n",
      "(2, 5)\n",
      "[[ 0 -2  2 -2  4]\n",
      " [-2  6 -2  8 -2]]\n"
     ]
    }
   ],
   "source": [
    "\n",
    "#converting 1D array to a 2D array\n",
    "print(arr.shape)\n",
    "arr=arr.reshape(2,5)\n",
    "print(arr.shape)\n",
    "print(arr)"
   ]
  },
  {
   "cell_type": "markdown",
   "id": "8cb77325",
   "metadata": {},
   "source": [
    "<a id=question7></a>\n",
    "### Question 7\n",
    "#### Given an array a = [1,2,3,4,5,6,7,8,9] , create new array b from a such that b includes all odd numbers and 4 multiples.\n",
    "\n"
   ]
  },
  {
   "cell_type": "code",
   "execution_count": 7,
   "id": "cb6f20d7",
   "metadata": {},
   "outputs": [
    {
     "name": "stdout",
     "output_type": "stream",
     "text": [
      "[1 3 4 5 7 8 9]\n"
     ]
    }
   ],
   "source": [
    "a=np.array([1,2,3,4,5,6,7,8,9])\n",
    "b= a[np.where((a%2!=0) | (a%4==0))] #or a[(a%4==0) | (a%2!=0)]\n",
    "print(b)"
   ]
  },
  {
   "cell_type": "markdown",
   "id": "8eda5a70",
   "metadata": {},
   "source": [
    "<a id=question8></a>\n",
    "### Question 8\n",
    "#### Given array, check if there are any null values and print them out"
   ]
  },
  {
   "cell_type": "code",
   "execution_count": 8,
   "id": "98c90e64",
   "metadata": {},
   "outputs": [
    {
     "name": "stdout",
     "output_type": "stream",
     "text": [
      "No. of null elements: 1\n",
      "Null elements: [nan]\n"
     ]
    }
   ],
   "source": [
    "#check if there are null elements in an array\n",
    "d=np.array([1,2,3,np.nan])\n",
    "print(\"No. of null elements:\",np.isnan(d).sum())\n",
    "print(\"Null elements:\", d[np.isnan(d)])"
   ]
  },
  {
   "cell_type": "markdown",
   "id": "e8b8d0ad",
   "metadata": {},
   "source": [
    "<a id=question9></a>\n",
    "### Question 9\n",
    "#### How to replace all missing values with 0 in a numpy array?"
   ]
  },
  {
   "cell_type": "code",
   "execution_count": 9,
   "id": "7c67b442",
   "metadata": {},
   "outputs": [
    {
     "name": "stdout",
     "output_type": "stream",
     "text": [
      "After replacing nan's with 6: [1. 2. 3. 6.]\n"
     ]
    }
   ],
   "source": [
    "#replacing the missing values with 6 in array\n",
    "d=np.nan_to_num(d,nan=6)\n",
    "print(\"After replacing nan's with 6:\", d)"
   ]
  },
  {
   "cell_type": "markdown",
   "id": "99a9f4e4",
   "metadata": {},
   "source": [
    "<a id=question10></a>\n",
    "### Question 10\n",
    "#### How to find the count of each unique number in a NumPy array?"
   ]
  },
  {
   "cell_type": "code",
   "execution_count": 10,
   "id": "dcbaeac6",
   "metadata": {},
   "outputs": [
    {
     "name": "stdout",
     "output_type": "stream",
     "text": [
      "No. of  1.0  in array are: 1\n",
      "No. of  2.0  in array are: 1\n",
      "No. of  3.0  in array are: 1\n",
      "No. of  6.0  in array are: 1\n"
     ]
    }
   ],
   "source": [
    "#finding the count of each unique number in array\n",
    "unique_d,counts=np.unique(d,return_counts=True)\n",
    "for i in range(len(unique_d)):\n",
    "    print(\"No. of \",unique_d[i], \" in array are:\",counts[i])"
   ]
  },
  {
   "cell_type": "markdown",
   "id": "7cd5a27f",
   "metadata": {},
   "source": [
    "<a id=question11></a>\n",
    "### Question 11\n",
    "#### How to convert a numeric to categorical(text) array?\n"
   ]
  },
  {
   "cell_type": "code",
   "execution_count": 11,
   "id": "ffcb18ea",
   "metadata": {},
   "outputs": [
    {
     "name": "stdout",
     "output_type": "stream",
     "text": [
      "['1' '2' '3' '4']\n"
     ]
    }
   ],
   "source": [
    "a= np.array([1,2,3,4])\n",
    "b= a.astype('str')\n",
    "\n",
    "print(b)"
   ]
  },
  {
   "cell_type": "markdown",
   "id": "dc7c3d13",
   "metadata": {},
   "source": [
    "<a id=question12></a>\n",
    "### Question 12\n",
    "#### Write a program to print all numbers between 99 and 299 which are either divisible by 5 or 7. Exclude the elements which are divisible by both."
   ]
  },
  {
   "cell_type": "code",
   "execution_count": 12,
   "id": "0ebd50b3",
   "metadata": {},
   "outputs": [
    {
     "data": {
      "text/plain": [
       "array([101, 110, 120, 211])"
      ]
     },
     "execution_count": 12,
     "metadata": {},
     "output_type": "execute_result"
    }
   ],
   "source": [
    "arr=np.array([1,2,4,101,105,110,120,140,210,211,300,305])\n",
    "arr[((arr>99) & (arr<299)) & ((arr%5!=0) | (arr%7!=0))]"
   ]
  },
  {
   "cell_type": "markdown",
   "id": "b877846d",
   "metadata": {},
   "source": [
    "<a id=question13></a>\n",
    "### Question 13\n",
    "#### Write a program to reverse an array and print (Don’t use inbuilt reverse functions)"
   ]
  },
  {
   "cell_type": "code",
   "execution_count": 13,
   "id": "dc17bfb2",
   "metadata": {},
   "outputs": [
    {
     "name": "stdout",
     "output_type": "stream",
     "text": [
      "[9 8 7 6 5 4 3 2 1]\n"
     ]
    }
   ],
   "source": [
    "#reverse a list\n",
    "a=np.array([1,2,3,4,5,6,7,8,9])\n",
    "length=len(a)\n",
    "half_len=int(length/2)\n",
    "for i in range(half_len):\n",
    "    temp=a[i]\n",
    "    a[i]=a[length-1-i]\n",
    "    a[length-1-i]=temp\n",
    "print(a)"
   ]
  }
 ],
 "metadata": {
  "kernelspec": {
   "display_name": "Python 3 (ipykernel)",
   "language": "python",
   "name": "python3"
  },
  "language_info": {
   "codemirror_mode": {
    "name": "ipython",
    "version": 3
   },
   "file_extension": ".py",
   "mimetype": "text/x-python",
   "name": "python",
   "nbconvert_exporter": "python",
   "pygments_lexer": "ipython3",
   "version": "3.8.6"
  }
 },
 "nbformat": 4,
 "nbformat_minor": 5
}
